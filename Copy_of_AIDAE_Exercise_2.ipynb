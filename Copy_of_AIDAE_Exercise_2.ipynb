{
  "nbformat": 4,
  "nbformat_minor": 0,
  "metadata": {
    "colab": {
      "name": "Copy of AIDAE Exercise 2",
      "provenance": [],
      "authorship_tag": "ABX9TyNCjrnyk+Bw8fUUexzOF2+2",
      "include_colab_link": true
    },
    "kernelspec": {
      "name": "python3",
      "display_name": "Python 3"
    },
    "language_info": {
      "name": "python"
    }
  },
  "cells": [
    {
      "cell_type": "markdown",
      "metadata": {
        "id": "view-in-github",
        "colab_type": "text"
      },
      "source": [
        "<a href=\"https://colab.research.google.com/github/Ferkelcode/plc_training_factory_24v/blob/master/Copy_of_AIDAE_Exercise_2.ipynb\" target=\"_parent\"><img src=\"https://colab.research.google.com/assets/colab-badge.svg\" alt=\"Open In Colab\"/></a>"
      ]
    },
    {
      "cell_type": "code",
      "metadata": {
        "id": "H9Na6rNjgwU4",
        "colab": {
          "base_uri": "https://localhost:8080/"
        },
        "outputId": "7240adc4-23ad-45b1-9ce7-6a5cf8213efe"
      },
      "source": [
        "print(\"Hello World!\")\n",
        "name = input (\"whats is your name?\")\n",
        "print (\"Hello\", name)\n",
        "string_variable=\"something else\"\n",
        "print (string_variable)\n",
        "#or:\n",
        "# variable_name=\"3\"\n",
        "whatever=3\n",
        "float_variable=3.232\n",
        "boolean_variable=True"
      ],
      "execution_count": null,
      "outputs": [
        {
          "output_type": "stream",
          "text": [
            "Hello World!\n",
            "whats is your name?tao\n",
            "Hello tao\n",
            "something else\n"
          ],
          "name": "stdout"
        }
      ]
    },
    {
      "cell_type": "code",
      "metadata": {
        "colab": {
          "base_uri": "https://localhost:8080/"
        },
        "id": "vY3_fCEhDdFx",
        "outputId": "8bd529b2-5d3f-471e-e0b6-8b64672dd951"
      },
      "source": [
        "var=3/2\n",
        "var_2=1+2\n",
        "1-2\n",
        "2*2\n",
        "4/3"
      ],
      "execution_count": null,
      "outputs": [
        {
          "output_type": "execute_result",
          "data": {
            "text/plain": [
              "1.3333333333333333"
            ]
          },
          "metadata": {
            "tags": []
          },
          "execution_count": 6
        }
      ]
    },
    {
      "cell_type": "code",
      "metadata": {
        "id": "Q8pxzEztDb0I"
      },
      "source": [
        ""
      ],
      "execution_count": null,
      "outputs": []
    },
    {
      "cell_type": "code",
      "metadata": {
        "id": "0L_9SfNI5j1n"
      },
      "source": [
        "import matplotlib.pyplot as plt\n",
        "plt.plot([])"
      ],
      "execution_count": null,
      "outputs": []
    }
  ]
}