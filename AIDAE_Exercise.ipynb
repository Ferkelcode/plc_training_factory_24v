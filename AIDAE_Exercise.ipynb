{
  "nbformat": 4,
  "nbformat_minor": 0,
  "metadata": {
    "colab": {
      "name": "AIDAE Exercise",
      "provenance": [],
      "toc_visible": true,
      "authorship_tag": "ABX9TyMhnklqFg2cqVFoL8VJQMKp",
      "include_colab_link": true
    },
    "kernelspec": {
      "name": "python3",
      "display_name": "Python 3"
    },
    "language_info": {
      "name": "python"
    }
  },
  "cells": [
    {
      "cell_type": "markdown",
      "metadata": {
        "id": "view-in-github",
        "colab_type": "text"
      },
      "source": [
        "<a href=\"https://colab.research.google.com/github/Ferkelcode/plc_training_factory_24v/blob/master/AIDAE_Exercise.ipynb\" target=\"_parent\"><img src=\"https://colab.research.google.com/assets/colab-badge.svg\" alt=\"Open In Colab\"/></a>"
      ]
    },
    {
      "cell_type": "markdown",
      "metadata": {
        "id": "xZBzToK7KQaW"
      },
      "source": [
        "https://docs.scipy.org/doc/numpy-1.15.0/reference/generated/numpy.random.random.html "
      ]
    },
    {
      "cell_type": "markdown",
      "metadata": {
        "id": "HA2XR4cXKn06"
      },
      "source": [
        "# Task 1) Functions and control flow\n",
        "\n",
        "**a)** Implement a function **checkPrime** that takes an integer as its only argument and checks whether that number is prime. If the number is prime, your function should return true. If the number is not prime, false should be returned. To be able to verify that your function works as intended, implement auxiliary code outside of your function, that asks the user for an integer on the command prompt, then pass the number read from the input to your function and display the result."
      ]
    },
    {
      "cell_type": "code",
      "metadata": {
        "id": "0fUhPajxKTmR"
      },
      "source": [
        "#exercise 2\n",
        "#Q 1.a\n",
        "def checkPrime(numberToCheck)\n",
        "  for i in range (2,number):\n",
        "    if numberToCheck % i ==0\n",
        "      return False\n",
        "  return True"
      ],
      "execution_count": null,
      "outputs": []
    },
    {
      "cell_type": "code",
      "metadata": {
        "colab": {
          "base_uri": "https://localhost:8080/"
        },
        "id": "Av303fftLgrU",
        "outputId": "0edfc991-1879-4ddc-f6a9-62374d873a25"
      },
      "source": [
        "#exercise 2\n",
        "#Q 1.a\n",
        "def checkPrime(numberToCheck):\n",
        "  if numberToCheck <2:         #2 spaces: is a part of this function checkPrime\n",
        "    return False\n",
        "  for i in range (2,numberToCheck):\n",
        "    if numberToCheck % i ==0:\n",
        "      return False\n",
        "  return True\n",
        "\n",
        "numberToVerify=input(\"enter a number \")\n",
        "print(checkPrime(int(numberToVerify)))"
      ],
      "execution_count": 8,
      "outputs": [
        {
          "output_type": "stream",
          "text": [
            "enter a number 1\n",
            "False\n"
          ],
          "name": "stdout"
        }
      ]
    },
    {
      "cell_type": "code",
      "metadata": {
        "id": "kpEv1ATCMvzR"
      },
      "source": [
        "#exercise 2\n",
        "#Q 1.a\n",
        "def checkPrime(numberToCheck):\n",
        "  if numberToCheck <2:         #2 spaces: is a part of this function checkPrime\n",
        "    return False\n",
        "  for i in range(2,numberToCheck):\n",
        "    if numberToCheck % i ==0:\n",
        "      return False\n",
        "  return True\n",
        "\n",
        "numberToVerify=input(\"enter a number \")\n",
        "print(checkPrime(int(numberToVerify)))"
      ],
      "execution_count": null,
      "outputs": []
    },
    {
      "cell_type": "code",
      "metadata": {
        "colab": {
          "base_uri": "https://localhost:8080/"
        },
        "id": "r9LUpKl_NwFP",
        "outputId": "4a02ccc5-88d7-4596-8ecd-e860a1987b76"
      },
      "source": [
        "#exercise 2\n",
        "#Q 1.a\n",
        "def checkPrime(numberToCheck):\n",
        "  if numberToCheck <2:         #2 spaces: is a part of this function checkPrime\n",
        "    return False\n",
        "  for i in range(2,numberToCheck):\n",
        "    if numberToCheck % i ==0:\n",
        "      return False\n",
        "  return True\n",
        "\n",
        "numberToVerify=input(\"enter a number \")\n",
        "try:\n",
        "  if checkPrime(int(numberToVerify)):\n",
        "    print(\"is a prime\")\n",
        "  else:\n",
        "    print(\"not a prime\")\n",
        "except ValueError:\n",
        "  print(\"you did not enter a number\")"
      ],
      "execution_count": 9,
      "outputs": [
        {
          "output_type": "stream",
          "text": [
            "enter a number \n",
            "you did not enter a number\n"
          ],
          "name": "stdout"
        }
      ]
    },
    {
      "cell_type": "markdown",
      "metadata": {
        "id": "CweLP1zINoOh"
      },
      "source": [
        "# **Task 2) Classes**\n",
        "In this task we will implement a very simple machine learning model to demonstrate the usage of classes. In the Python library ecosystem almost every machine learning algorithm is implemented with a similar set of methods inside a model dependent class, such that usage of models is uniform, and programmers can switch between different models easily. This algorithm specific model class has at least two methods: fit and predict. Fit takes a feature matrix and a vector of target values, with one target value per row of the feature matrix. Given these values, the fit methods trains the classifier instance. The predict method then takes another feature matrix with the same number of columns as the feature matrix used during fitting and estimates the target values.\n",
        "One of the most simplistic models is the linear regression. The idea behind this is to fit a line (or a hyperplane in the case of multidimensional features), such that it is as close as possible to all points given by the training data. For the sake of simplicity, we will focus on data that consists of a single input and a single output dimension. Additionally, we will only take into account the first two rows of input data, and compute the line based on that.\n",
        "Now, your task will be to implement a model that performs a simple linear regression.\n",
        "\n",
        "**a)**Create a new class called SimpleLinearModel. Inside the constructor of the class declare two class attributes: **slope** and **offset**, and initialize them to zero."
      ]
    },
    {
      "cell_type": "code",
      "metadata": {
        "id": "LwXpe_onPOha"
      },
      "source": [
        "#Q 2.a\n",
        "class SimpleLinearModel:\n",
        "  def _int_(self): #the function from this plane\n",
        "    self.slope=0\n",
        "    self.offset=0\n",
        "  def fit(self,X,y):\n",
        "    deltaX=X[1]-X[0]\n",
        "    deltaY=y[1]-y[0]\n",
        "    self.slope=deltaY/deltaX\n",
        "    self.offset=y[0]-self.slope*X[0]\n"
      ],
      "execution_count": 11,
      "outputs": []
    },
    {
      "cell_type": "markdown",
      "metadata": {
        "id": "XIxk9OObP60M"
      },
      "source": [
        "**b)** Add a fit method to your class. Expect a feature vector X, consisting of an arbitrary number of rows but a single column, and a target vector y with as many rows as the feature vector has, to be passed to that function. Now, compute the slope between the points (x0, y0) and (x1, y1), where xi is the i’th element of the feature vector and yi is the i’th element of the target vector. Write that slope into the slope variable you have initialized in the constructor. Additionally, compute the offset required to fulfil the equations 𝑦0 = 𝑥0 ⋅ 𝑠𝑙𝑜𝑝𝑒 + 𝑜𝑓𝑓𝑠𝑒𝑡 and 𝑦1 = 𝑥1 ⋅ 𝑠𝑙𝑜𝑝𝑒 + 𝑜𝑓𝑓𝑠𝑒𝑡, and write that offset into the corresponding class attribute as well."
      ]
    },
    {
      "cell_type": "code",
      "metadata": {
        "id": "bJfxLOoXP6qi"
      },
      "source": [
        ""
      ],
      "execution_count": null,
      "outputs": []
    },
    {
      "cell_type": "markdown",
      "metadata": {
        "id": "v08AvuwWQWDH"
      },
      "source": [
        "**c)** Add a predict method to your class. That method takes a feature vector X of arbitrary length and returns a vector y of the same length. The contents of y have to be determined using the parameters that were estimated in the fit method, by multiplying the individual X values with the slope and adding the offset."
      ]
    },
    {
      "cell_type": "code",
      "metadata": {
        "id": "imu8GnTpQn-8"
      },
      "source": [
        ""
      ],
      "execution_count": null,
      "outputs": []
    },
    {
      "cell_type": "markdown",
      "metadata": {
        "id": "JxffdW1lRdQK"
      },
      "source": [
        "x(100)/20"
      ]
    },
    {
      "cell_type": "markdown",
      "metadata": {
        "id": "bV5WLUx5QomP"
      },
      "source": [
        "\n",
        "With your newly created model, you should be able to estimate linearly dependent properties. As an example, we will verify this by training the model to perform the conversion from the Celsius to the Fahrenheit temperature scale.\n",
        "2/4\n",
        "First, create an instance of your class. Then train your instance with the following training data by passing it to the fit method:\n",
        "\n",
        "![Screenshot 2021-04-22 at 13.06.48.png](data:image/png;base64,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)\n",
        "\n",
        "Note that 100°C = 212°F and 20°C = 68°F. If you now call the predict method with the following vector:\n",
        "\n",
        "![Screenshot 2021-04-22 at 13.07.30.png](data:image/png;base64,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)\n",
        "\n",
        "You should get the following vector as a result, since 10°C = 50°F et cetera:\n",
        "\n",
        "![Screenshot 2021-04-22 at 13.07.57.png](data:image/png;base64,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)"
      ]
    },
    {
      "cell_type": "markdown",
      "metadata": {
        "id": "xtoqQkZNS7TC"
      },
      "source": [
        "# Task 3) NumPy\n",
        "\n",
        "**a)** **Import** NumPy and create the following NumPy Arrays:"
      ]
    },
    {
      "cell_type": "code",
      "metadata": {
        "colab": {
          "base_uri": "https://localhost:8080/"
        },
        "id": "mFjHrGbxTA2f",
        "outputId": "b78a652d-1f0e-48e4-c531-45127d32fea6"
      },
      "source": [
        "#Q3 ---EXAM!!!!\n",
        "#abcdef\n",
        "import numpy as np #when you want to use a library, need to import (pip, conda)\n",
        "import math\n",
        "b=np.array([[1,2],[3,4]]) #2*2 matrix\n",
        "\n",
        "#g\n",
        "def rotate(vec):\n",
        "  angle=math.radians(45) #transfer the 45 degrees into radians\n",
        "  rot_mat=np.array([[math.cos(angle),-math.sin(angle)],[math.sin(angle),math.cos(angle)]]) #the rotate matrix\n",
        "  return vec.dot(rot_mat)\n",
        "\n",
        "print(rotate(np.array(np.array([1/math.sqrt(2),1/math.sqrt(2)]))))\n"
      ],
      "execution_count": 14,
      "outputs": [
        {
          "output_type": "stream",
          "text": [
            "[1.00000000e+00 1.00875766e-16]\n"
          ],
          "name": "stdout"
        }
      ]
    },
    {
      "cell_type": "markdown",
      "metadata": {
        "id": "Asb2p3fqXUh_"
      },
      "source": [
        "# Task 4) Pandas\n",
        "\n",
        "In this task you will use Pandas to analyze a data set of video game sales. The vgsales.csv contains sale data of more than 16000 games. The file contains the following columns:\n",
        "\n",
        "Rank: Global sales rank of the game\n",
        "\n",
        "Name: Name of the game\n",
        "\n",
        "Platform: The device the game was made for (e.g. PC, Wii etc.) \n",
        "\n",
        "Year: The year the game was released in\n",
        "\n",
        "Genre: The games genre (such as “Sports” or “Shooter”) \n",
        "\n",
        "Publisher: The company which published the game \n",
        "\n",
        "NA_Sales: Sales in North America (in million units) \n",
        "\n",
        "EU_Sales: Sales in Europe (in million units)\n",
        "\n",
        "\n",
        "JP_Sales: Sales in Japan (in million units) \n",
        "\n",
        "Other_Sales: Sales in other regions of the world (in million units) \n",
        "\n",
        "Global_Sales: Combined global sales (in million units)\n",
        "\n",
        "Each row of the CSV file represents a distinct combination of game and platform. Since games are sometimes released for multiple platforms (e.g. Crysis 2 was released for PC, X360 and PS3), the same game might occur multiple times in the data set.\n",
        "\n",
        "**a)** Read the vgsales.csv into a Pandas data frame and determine how many different game/platform combinations it contains.\n"
      ]
    },
    {
      "cell_type": "markdown",
      "metadata": {
        "id": "GpUgBRd3Ya9B"
      },
      "source": [
        "!!!!! Exam: libraries, **read csv** !!!!!"
      ]
    },
    {
      "cell_type": "code",
      "metadata": {
        "colab": {
          "base_uri": "https://localhost:8080/"
        },
        "id": "ZsIJdrroXOJd",
        "outputId": "e101d86c-9f42-4c42-c4b0-3ad8004da91f"
      },
      "source": [
        "#Q4\n",
        "#a\n",
        "import pandas\n",
        "df=pandas.read_csv('vgsales.csv') #if you want to read file, dataframe\n",
        "print(df)\n"
      ],
      "execution_count": 15,
      "outputs": [
        {
          "output_type": "stream",
          "text": [
            "        Rank  ... Global_Sales\n",
            "0          1  ...        82.74\n",
            "1          2  ...        40.24\n",
            "2          3  ...        35.82\n",
            "3          4  ...        33.00\n",
            "4          5  ...        31.37\n",
            "...      ...  ...          ...\n",
            "16593  16596  ...         0.01\n",
            "16594  16597  ...         0.01\n",
            "16595  16598  ...         0.01\n",
            "16596  16599  ...         0.01\n",
            "16597  16600  ...         0.01\n",
            "\n",
            "[16598 rows x 11 columns]\n"
          ],
          "name": "stdout"
        }
      ]
    },
    {
      "cell_type": "markdown",
      "metadata": {
        "id": "ADScLzpsY6ro"
      },
      "source": [
        "**b)** Compute a list of the 10 most successful **games** for the SNES **platform**."
      ]
    },
    {
      "cell_type": "code",
      "metadata": {
        "id": "aXkzNAskY8RI"
      },
      "source": [
        "#Q4\n",
        "#b\n",
        "#game-name, platform\n",
        "import pandas\n",
        "df=pandas.read_csv('vgsales.csv') #if you want to read file, dataframe\n",
        "print(df)\n"
      ],
      "execution_count": null,
      "outputs": []
    },
    {
      "cell_type": "markdown",
      "metadata": {
        "id": "OyfIc9SiZ5H8"
      },
      "source": [
        "# Task 5) Matplotlib\n",
        "\n",
        "a) Plot the following values in a line graph using Matplotlib:\n",
        "\n",
        "x: 1, 2, 3, 4, 5\n",
        "y: 0,5,10,10,5\n",
        "\n"
      ]
    },
    {
      "cell_type": "code",
      "metadata": {
        "colab": {
          "base_uri": "https://localhost:8080/",
          "height": 283
        },
        "id": "E05AeEHPZ445",
        "outputId": "80fb42b0-7ca2-4557-8c42-0cdfcd8af8fe"
      },
      "source": [
        "#Q5\n",
        "import matplotlib.pyplot as plt\n",
        "x=[1,2,3,4,5]\n",
        "y=[0,5,10,10,5]\n",
        "plt.plot(x,y)\n",
        "plt.show()\n",
        "x\n"
      ],
      "execution_count": 21,
      "outputs": [
        {
          "output_type": "display_data",
          "data": {
            "image/png": "[encoded data removed]",
            "text/plain": [
              "<Figure size 432x288 with 1 Axes>"
            ]
          },
          "metadata": {
            "tags": [],
            "needs_background": "light"
          }
        },
        {
          "output_type": "execute_result",
          "data": {
            "text/plain": [
              "[0, 5, 10, 10, 5]"
            ]
          },
          "metadata": {
            "tags": []
          },
          "execution_count": 21
        }
      ]
    },
    {
      "cell_type": "markdown",
      "metadata": {
        "id": "yOHeT9fwapoH"
      },
      "source": [
        "**b)** Plot the function 𝑥3 + 5 − √𝑥 in a separate line graph using matplotlib, and set the title of the plot to “foo”"
      ]
    },
    {
      "cell_type": "code",
      "metadata": {
        "id": "-5qt-ihuasxC"
      },
      "source": [
        ""
      ],
      "execution_count": null,
      "outputs": []
    },
    {
      "cell_type": "markdown",
      "metadata": {
        "id": "R7IptNN8az-V"
      },
      "source": [
        "**c)** Modify your code from a) and b) to use subplots, such that both plots are displayed in separate graphs but the same window."
      ]
    },
    {
      "cell_type": "code",
      "metadata": {
        "id": "mfSMSWxSa2jF"
      },
      "source": [
        ""
      ],
      "execution_count": null,
      "outputs": []
    },
    {
      "cell_type": "markdown",
      "metadata": {
        "id": "ASRy5_Jma2_L"
      },
      "source": [
        "**d)** Plot the top 50 games from the vgsales.csv (as introduced in the previous task) in a scatter plot. Each dot should represent one row of the CSV file, with the x-axis showing the year of release and the y- axis showing the amount of copies sold."
      ]
    },
    {
      "cell_type": "code",
      "metadata": {
        "id": "6Oh4VJITa6oi"
      },
      "source": [
        ""
      ],
      "execution_count": null,
      "outputs": []
    }
  ]
}